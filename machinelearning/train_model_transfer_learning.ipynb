{
 "cells": [
  {
   "cell_type": "code",
   "execution_count": 1,
   "id": "7af20479",
   "metadata": {},
   "outputs": [],
   "source": [
    "import os"
   ]
  },
  {
   "cell_type": "code",
   "execution_count": 2,
   "id": "9e41c852",
   "metadata": {},
   "outputs": [
    {
     "name": "stdout",
     "output_type": "stream",
     "text": [
      "Defaulting to user installation because normal site-packages is not writeable\n",
      "Collecting wget\n",
      "  Downloading wget-3.2.zip (10 kB)\n",
      "Building wheels for collected packages: wget\n",
      "  Building wheel for wget (setup.py) ... \u001b[?25ldone\n",
      "\u001b[?25h  Created wheel for wget: filename=wget-3.2-py3-none-any.whl size=9680 sha256=941debd9285b32bb4a9eb03a9135c52777f94e3554aabd3f5e62d14b04b5d32d\n",
      "  Stored in directory: /home/alpha/.cache/pip/wheels/bd/a8/c3/3cf2c14a1837a4e04bd98631724e81f33f462d86a1d895fae0\n",
      "Successfully built wget\n",
      "Installing collected packages: wget\n",
      "Successfully installed wget-3.2\n"
     ]
    }
   ],
   "source": [
    "!pip install wget"
   ]
  },
  {
   "cell_type": "code",
   "execution_count": 3,
   "id": "e5d09657",
   "metadata": {},
   "outputs": [
    {
     "name": "stdout",
     "output_type": "stream",
     "text": [
      "Cloning into 'pretained'...\n",
      "remote: Enumerating objects: 75999, done.\u001b[K\n",
      "remote: Counting objects: 100% (461/461), done.\u001b[K\n",
      "remote: Compressing objects: 100% (252/252), done.\u001b[K\n",
      "remote: Total 75999 (delta 251), reused 395 (delta 206), pack-reused 75538\u001b[K\n",
      "Receiving objects: 100% (75999/75999), 589.50 MiB | 959.00 KiB/s, done.\n",
      "Resolving deltas: 100% (53884/53884), done.\n"
     ]
    }
   ],
   "source": [
    "!git clone https://github.com/tensorflow/models pretained"
   ]
  },
  {
   "cell_type": "code",
   "execution_count": 2,
   "id": "5810bf20",
   "metadata": {},
   "outputs": [],
   "source": [
    "!cd pretained/research && protoc object_detection/protos/*.proto --python_out=. && cp object_detection/packages/tf2/setup.py ."
   ]
  },
  {
   "cell_type": "code",
   "execution_count": 3,
   "id": "be6a9039",
   "metadata": {},
   "outputs": [],
   "source": [
    "VERIFICATION_SCRIPT = os.path.join(os.getcwd(), \"pretained\", 'research', 'object_detection', 'builders', 'model_builder_tf2_test.py')"
   ]
  },
  {
   "cell_type": "code",
   "execution_count": 5,
   "id": "d33c8c6b",
   "metadata": {},
   "outputs": [
    {
     "name": "stdout",
     "output_type": "stream",
     "text": [
      "Defaulting to user installation because normal site-packages is not writeable\n",
      "Requirement already satisfied: absl-py in /home/alpha/.local/lib/python3.8/site-packages (1.2.0)\n",
      "Collecting tensorflow\n",
      "  Downloading tensorflow-2.9.1-cp38-cp38-manylinux_2_17_x86_64.manylinux2014_x86_64.whl (511.7 MB)\n",
      "\u001b[K     |                                | 491 kB 164 kB/s eta 0:51:55^C\n",
      "\n",
      "\u001b[31mERROR: Operation cancelled by user\u001b[0m\n",
      "\u001b[?25h"
     ]
    }
   ],
   "source": [
    "#Installing Tensorflow\n",
    "\n",
    "!pip install absl-py tensorflow\n"
   ]
  },
  {
   "cell_type": "code",
   "execution_count": 8,
   "id": "3aa38023",
   "metadata": {},
   "outputs": [
    {
     "data": {
      "text/plain": [
       "'/home/alpha/Code/Project/MerchantPlus/machinelearning/pretained/research/object_detection/builders/model_builder_tf2_test.py'"
      ]
     },
     "execution_count": 8,
     "metadata": {},
     "output_type": "execute_result"
    }
   ],
   "source": [
    "VERIFICATION_SCRIPT"
   ]
  },
  {
   "cell_type": "code",
   "execution_count": 9,
   "id": "d8ad82ce",
   "metadata": {},
   "outputs": [],
   "source": [
    "import object_detection"
   ]
  },
  {
   "cell_type": "code",
   "execution_count": 10,
   "id": "09d95961",
   "metadata": {},
   "outputs": [
    {
     "name": "stdout",
     "output_type": "stream",
     "text": [
      "Defaulting to user installation because normal site-packages is not writeable\n",
      "^C\n",
      "\u001b[31mERROR: Operation cancelled by user\u001b[0m\n"
     ]
    }
   ],
   "source": [
    "!pip install protobuf matplotlib==3.2"
   ]
  },
  {
   "cell_type": "code",
   "execution_count": 11,
   "id": "64807a5b",
   "metadata": {},
   "outputs": [],
   "source": [
    "\n",
    "\n",
    "CUSTOM_MODEL_NAME = 'my_ssd_mobnet' \n",
    "PRETRAINED_MODEL_NAME = 'ssd_mobilenet_v2_fpnlite_320x320_coco17_tpu-8'\n",
    "PRETRAINED_MODEL_URL = 'http://download.tensorflow.org/models/object_detection/tf2/20200711/ssd_mobilenet_v2_320x320_coco17_tpu-8.tar.gz'\n",
    "TF_RECORD_SCRIPT_NAME = 'generate_tfrecord.py'\n",
    "LABEL_MAP_NAME = 'label_map.pbtxt'\n",
    "\n"
   ]
  },
  {
   "cell_type": "code",
   "execution_count": 13,
   "id": "436ab6df",
   "metadata": {},
   "outputs": [
    {
     "name": "stdout",
     "output_type": "stream",
     "text": [
      "--2022-08-05 22:09:27--  http://download.tensorflow.org/models/object_detection/tf2/20200711/ssd_mobilenet_v2_fpnlite_320x320_coco17_tpu-8.tar.gz\n",
      "Resolving download.tensorflow.org (download.tensorflow.org)... 2404:6800:4009:81a::2010, 142.250.76.176\n",
      "Connecting to download.tensorflow.org (download.tensorflow.org)|2404:6800:4009:81a::2010|:80... ^C\n"
     ]
    }
   ],
   "source": [
    "!wget {PRETRAINED_MODEL_URL}"
   ]
  },
  {
   "cell_type": "code",
   "execution_count": null,
   "id": "82528a5d",
   "metadata": {},
   "outputs": [],
   "source": []
  }
 ],
 "metadata": {
  "kernelspec": {
   "display_name": "virt",
   "language": "python",
   "name": "virt"
  },
  "language_info": {
   "codemirror_mode": {
    "name": "ipython",
    "version": 3
   },
   "file_extension": ".py",
   "mimetype": "text/x-python",
   "name": "python",
   "nbconvert_exporter": "python",
   "pygments_lexer": "ipython3",
   "version": "3.10.2"
  }
 },
 "nbformat": 4,
 "nbformat_minor": 5
}
