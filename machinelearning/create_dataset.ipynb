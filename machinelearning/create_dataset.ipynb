{
 "cells": [
  {
   "cell_type": "code",
   "execution_count": 3,
   "id": "b50431fc",
   "metadata": {},
   "outputs": [
    {
     "name": "stdout",
     "output_type": "stream",
     "text": [
      "Defaulting to user installation because normal site-packages is not writeable\n",
      "Requirement already satisfied: opencv-python in /home/alpha/.local/lib/python3.8/site-packages (4.6.0.66)\n",
      "Requirement already satisfied: numpy>=1.17.3 in /opt/anaconda/lib/python3.8/site-packages (from opencv-python) (1.20.1)\n"
     ]
    }
   ],
   "source": [
    "# Installing OpenCV for image rendering\n",
    "!pip install opencv-python"
   ]
  },
  {
   "cell_type": "code",
   "execution_count": 2,
   "id": "1966579f",
   "metadata": {},
   "outputs": [],
   "source": [
    "import cv2"
   ]
  },
  {
   "cell_type": "code",
   "execution_count": 31,
   "id": "a8e3be6f",
   "metadata": {},
   "outputs": [],
   "source": [
    "# Name of the thing we need to predict\n",
    "LABELS = [\"Cup\", \"Smartphone\", \"Book\", \"Pen\", \"Bottle\"]"
   ]
  },
  {
   "cell_type": "code",
   "execution_count": 4,
   "id": "c87cfb33",
   "metadata": {},
   "outputs": [],
   "source": [
    "# Creating path to store images\n",
    "import os \n",
    "\n",
    "IMAGE_PATH = os.path.join(os.getcwd(), \"images\")\n",
    "\n",
    "\n",
    "for label in LABELS:\n",
    "    path = os.path.join(IMAGE_PATH, label)\n",
    "    \n",
    "    if not os.path.exists(path):\n",
    "        !mkdir -p {path}\n",
    "        "
   ]
  },
  {
   "cell_type": "code",
   "execution_count": 32,
   "id": "947f30c2",
   "metadata": {},
   "outputs": [
    {
     "name": "stdout",
     "output_type": "stream",
     "text": [
      "Collecting images for Cup..\n",
      "\tImage Number 1\n",
      "\tImage Number 2\n",
      "\tImage Number 3\n",
      "\tImage Number 4\n",
      "\tImage Number 5\n",
      "\tImage Number 6\n",
      "\tImage Number 7\n",
      "\tImage Number 8\n",
      "\tImage Number 9\n",
      "\tImage Number 10\n",
      "\tImage Number 11\n",
      "\tImage Number 12\n",
      "\tImage Number 13\n",
      "\tImage Number 14\n",
      "\tImage Number 15\n",
      "\tImage Number 16\n",
      "\tImage Number 17\n",
      "\tImage Number 18\n",
      "\tImage Number 19\n",
      "\tImage Number 20\n",
      "Done Cup!\n",
      "Collecting images for Smartphone..\n",
      "\tImage Number 1\n",
      "\tImage Number 2\n",
      "\tImage Number 3\n",
      "\tImage Number 4\n",
      "\tImage Number 5\n",
      "\tImage Number 6\n",
      "\tImage Number 7\n",
      "\tImage Number 8\n",
      "\tImage Number 9\n",
      "\tImage Number 10\n",
      "\tImage Number 11\n",
      "\tImage Number 12\n",
      "\tImage Number 13\n",
      "\tImage Number 14\n",
      "\tImage Number 15\n",
      "\tImage Number 16\n",
      "\tImage Number 17\n",
      "\tImage Number 18\n",
      "\tImage Number 19\n",
      "\tImage Number 20\n",
      "Done Smartphone!\n",
      "Collecting images for Book..\n",
      "\tImage Number 1\n",
      "\tImage Number 2\n",
      "\tImage Number 3\n",
      "\tImage Number 4\n",
      "\tImage Number 5\n",
      "\tImage Number 6\n",
      "\tImage Number 7\n",
      "\tImage Number 8\n",
      "\tImage Number 9\n",
      "\tImage Number 10\n",
      "\tImage Number 11\n",
      "\tImage Number 12\n",
      "\tImage Number 13\n",
      "\tImage Number 14\n",
      "\tImage Number 15\n",
      "\tImage Number 16\n",
      "\tImage Number 17\n",
      "\tImage Number 18\n",
      "\tImage Number 19\n",
      "\tImage Number 20\n",
      "Done Book!\n",
      "Collecting images for Pen..\n",
      "\tImage Number 1\n",
      "\tImage Number 2\n",
      "\tImage Number 3\n",
      "\tImage Number 4\n",
      "\tImage Number 5\n",
      "\tImage Number 6\n",
      "\tImage Number 7\n",
      "\tImage Number 8\n",
      "\tImage Number 9\n",
      "\tImage Number 10\n",
      "\tImage Number 11\n",
      "\tImage Number 12\n",
      "\tImage Number 13\n",
      "\tImage Number 14\n",
      "\tImage Number 15\n",
      "\tImage Number 16\n",
      "\tImage Number 17\n",
      "\tImage Number 18\n",
      "\tImage Number 19\n",
      "\tImage Number 20\n",
      "Done Pen!\n",
      "Collecting images for Bottle..\n",
      "\tImage Number 1\n",
      "\tImage Number 2\n",
      "\tImage Number 3\n",
      "\tImage Number 4\n",
      "\tImage Number 5\n",
      "\tImage Number 6\n",
      "\tImage Number 7\n",
      "\tImage Number 8\n",
      "\tImage Number 9\n",
      "\tImage Number 10\n",
      "\tImage Number 11\n",
      "\tImage Number 12\n",
      "\tImage Number 13\n",
      "\tImage Number 14\n",
      "\tImage Number 15\n",
      "\tImage Number 16\n",
      "\tImage Number 17\n",
      "\tImage Number 18\n",
      "\tImage Number 19\n",
      "\tImage Number 20\n",
      "Done Bottle!\n"
     ]
    }
   ],
   "source": [
    "# Capturing Images\n",
    "import time\n",
    "\n",
    "NUMBER_OF_IMAGES = 20\n",
    "\n",
    "for label in LABELS:\n",
    "    \n",
    "    time.sleep(10)\n",
    "    \n",
    "    path = os.path.join(IMAGE_PATH, label)\n",
    "    \n",
    "    cap = cv2.VideoCapture(0)\n",
    "    \n",
    "    print(f\"Collecting images for {label}..\")\n",
    "    \n",
    "    for i in range(1, NUMBER_OF_IMAGES + 1):\n",
    "        \n",
    "        print(f\"\\tImage Number {i}\")\n",
    "        \n",
    "        ret, frame = cap.read()\n",
    "        \n",
    "        image_name = f\"{label.lower()}_{i}.jpg\"\n",
    "        \n",
    "        cv2.imshow('frame', frame)\n",
    "        \n",
    "        cv2.imwrite(os.path.join(path, image_name), frame)\n",
    "                       \n",
    "        if cv2.waitKey(1) and 0xFF == ord('q'):\n",
    "            break\n",
    "        \n",
    "        time.sleep(5)\n",
    "\n",
    "    print(f\"Done {label}!\")\n",
    "\n",
    "cap.release()\n",
    "cv2.destroyAllWindows()"
   ]
  },
  {
   "cell_type": "code",
   "execution_count": 28,
   "id": "196a02eb",
   "metadata": {},
   "outputs": [],
   "source": [
    "cap.release()\n",
    "cv2.destroyAllWindows()"
   ]
  },
  {
   "cell_type": "code",
   "execution_count": 34,
   "id": "8059209b",
   "metadata": {},
   "outputs": [
    {
     "name": "stdout",
     "output_type": "stream",
     "text": [
      "Defaulting to user installation because normal site-packages is not writeable\n",
      "Collecting pyqt5\n",
      "  Downloading PyQt5-5.15.7-cp37-abi3-manylinux1_x86_64.whl (8.4 MB)\n",
      "\u001b[K     |████████████████████████████████| 8.4 MB 793 kB/s eta 0:00:01\n",
      "\u001b[?25hRequirement already satisfied: lxml in /opt/anaconda/lib/python3.8/site-packages (4.6.3)\n",
      "Collecting lxml\n",
      "  Downloading lxml-4.9.1-cp38-cp38-manylinux_2_17_x86_64.manylinux2014_x86_64.manylinux_2_24_x86_64.whl (6.9 MB)\n",
      "\u001b[K     |████████████████████████████████| 6.9 MB 451 kB/s eta 0:00:01\n",
      "\u001b[?25hCollecting PyQt5-Qt5>=5.15.0\n",
      "  Downloading PyQt5_Qt5-5.15.2-py3-none-manylinux2014_x86_64.whl (59.9 MB)\n",
      "\u001b[K     |████████████████████████████████| 59.9 MB 1.3 MB/s eta 0:00:01\n",
      "\u001b[?25hCollecting PyQt5-sip<13,>=12.11\n",
      "  Downloading PyQt5_sip-12.11.0-cp38-cp38-manylinux1_x86_64.whl (361 kB)\n",
      "\u001b[K     |████████████████████████████████| 361 kB 1.2 MB/s eta 0:00:01\n",
      "\u001b[?25hInstalling collected packages: PyQt5-sip, PyQt5-Qt5, pyqt5, lxml\n",
      "\u001b[33m  WARNING: The scripts pylupdate5, pyrcc5 and pyuic5 are installed in '/home/alpha/.local/bin' which is not on PATH.\n",
      "  Consider adding this directory to PATH or, if you prefer to suppress this warning, use --no-warn-script-location.\u001b[0m\n",
      "\u001b[31mERROR: pip's dependency resolver does not currently take into account all the packages that are installed. This behaviour is the source of the following dependency conflicts.\n",
      "spyder 4.2.5 requires pyqtwebengine<5.13, which is not installed.\n",
      "spyder 4.2.5 requires pyqt5<5.13, but you have pyqt5 5.15.7 which is incompatible.\u001b[0m\n",
      "Successfully installed PyQt5-Qt5-5.15.2 PyQt5-sip-12.11.0 lxml-4.9.1 pyqt5-5.15.7\n"
     ]
    }
   ],
   "source": [
    "# Installing LXML for image labelling\n",
    "\n",
    "!pip install --upgrade pyqt5 lxml"
   ]
  },
  {
   "cell_type": "code",
   "execution_count": 35,
   "id": "4a6aabc2",
   "metadata": {},
   "outputs": [
    {
     "name": "stdout",
     "output_type": "stream",
     "text": [
      "Cloning into 'labelImg'...\n",
      "remote: Enumerating objects: 2090, done.\u001b[K\n",
      "remote: Counting objects: 100% (104/104), done.\u001b[K\n",
      "remote: Compressing objects: 100% (67/67), done.\u001b[K\n",
      "remote: Total 2090 (delta 43), reused 79 (delta 34), pack-reused 1986\u001b[K\n",
      "Receiving objects: 100% (2090/2090), 232.91 MiB | 691.00 KiB/s, done.\n",
      "Resolving deltas: 100% (1226/1226), done.\n"
     ]
    }
   ],
   "source": [
    "# Cloning labelimg\n",
    "\n",
    "!git clone https://github.com/tzutalin/labelImg"
   ]
  },
  {
   "cell_type": "code",
   "execution_count": null,
   "id": "61df2d25",
   "metadata": {},
   "outputs": [],
   "source": []
  }
 ],
 "metadata": {
  "kernelspec": {
   "display_name": "venv",
   "language": "python",
   "name": "venv"
  },
  "language_info": {
   "codemirror_mode": {
    "name": "ipython",
    "version": 3
   },
   "file_extension": ".py",
   "mimetype": "text/x-python",
   "name": "python",
   "nbconvert_exporter": "python",
   "pygments_lexer": "ipython3",
   "version": "3.10.2"
  }
 },
 "nbformat": 4,
 "nbformat_minor": 5
}
