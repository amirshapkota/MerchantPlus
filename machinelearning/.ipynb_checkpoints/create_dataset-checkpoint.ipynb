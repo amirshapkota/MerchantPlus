{
 "cells": [
  {
   "cell_type": "code",
   "execution_count": 3,
   "id": "6b208445",
   "metadata": {},
   "outputs": [
    {
     "name": "stdout",
     "output_type": "stream",
     "text": [
      "Defaulting to user installation because normal site-packages is not writeable\n",
      "Requirement already satisfied: opencv-python in /home/alpha/.local/lib/python3.8/site-packages (4.6.0.66)\n",
      "Requirement already satisfied: numpy>=1.17.3 in /opt/anaconda/lib/python3.8/site-packages (from opencv-python) (1.20.1)\n"
     ]
    }
   ],
   "source": [
    "# Installing OpenCV for image rendering\n",
    "!pip install opencv-python"
   ]
  },
  {
   "cell_type": "code",
   "execution_count": 8,
   "id": "dd529e6f",
   "metadata": {},
   "outputs": [],
   "source": [
    "import cv2"
   ]
  },
  {
   "cell_type": "code",
   "execution_count": 5,
   "id": "25d734d5",
   "metadata": {},
   "outputs": [],
   "source": [
    "# Name of the thing we need to predict\n",
    "LABELS = [\"Cup\", \"Smartphone\", \"Book\", \"Pen\", \"Bottle\"]"
   ]
  },
  {
   "cell_type": "code",
   "execution_count": 7,
   "id": "86466ac1",
   "metadata": {},
   "outputs": [],
   "source": [
    "# Creating path to store images\n",
    "import os \n",
    "\n",
    "IMAGE_PATH = os.path.join(os.getcwd(), \"images\")\n",
    "\n",
    "\n",
    "for label in LABELS:\n",
    "    path = os.path.join(IMAGE_PATH, label)\n",
    "    \n",
    "    if not os.path.exists(path):\n",
    "        !mkdir -p {path}\n",
    "        "
   ]
  },
  {
   "cell_type": "code",
   "execution_count": null,
   "id": "e95e9e69",
   "metadata": {},
   "outputs": [],
   "source": [
    "# Capturing Images\n",
    "import time\n",
    "\n",
    "NUMBER_OF_IMAGES = 30\n",
    "\n",
    "for label in LABELS:\n",
    "    \n",
    "    path = os.path.join(IMAGE_PATH, label)\n",
    "    \n",
    "    cap = cv2.VideoCapture(0)\n",
    "    \n",
    "    print(f\"Collecting images for {label}..\")\n",
    "    \n",
    "    time.sleep(2)\n",
    "    \n",
    "    for i in range(1, NUMBER_OF_IMAGES + 1):\n",
    "        \n",
    "        print(f\"\\tImage Number {i}\")\n",
    "        \n",
    "        ret, frame = cap.read()\n",
    "        \n",
    "        image_name = f\"{label.lower()}\"\n",
    "        \n",
    "    print(f\"Done {label}!\")\n",
    "    "
   ]
  }
 ],
 "metadata": {
  "kernelspec": {
   "display_name": "venv",
   "language": "python",
   "name": "venv"
  },
  "language_info": {
   "codemirror_mode": {
    "name": "ipython",
    "version": 3
   },
   "file_extension": ".py",
   "mimetype": "text/x-python",
   "name": "python",
   "nbconvert_exporter": "python",
   "pygments_lexer": "ipython3",
   "version": "3.10.2"
  }
 },
 "nbformat": 4,
 "nbformat_minor": 5
}
